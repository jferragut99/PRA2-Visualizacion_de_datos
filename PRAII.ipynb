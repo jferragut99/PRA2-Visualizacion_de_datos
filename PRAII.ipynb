{
 "cells": [
  {
   "cell_type": "code",
   "execution_count": 1,
   "metadata": {},
   "outputs": [],
   "source": [
    "import pandas as pd\n",
    "import numpy as np\n",
    "from IPython.display import HTML, display\n",
    "import warnings\n",
    "warnings.filterwarnings('ignore')\n",
    "from subprocess import check_output"
   ]
  },
  {
   "cell_type": "code",
   "execution_count": 2,
   "metadata": {},
   "outputs": [],
   "source": [
    "terror = pd.read_csv('globalterrorismdb_0617dist.csv',encoding='ISO-8859-1')"
   ]
  },
  {
   "cell_type": "code",
   "execution_count": 3,
   "metadata": {},
   "outputs": [
    {
     "data": {
      "text/plain": [
       "(170350, 135)"
      ]
     },
     "execution_count": 3,
     "metadata": {},
     "output_type": "execute_result"
    }
   ],
   "source": [
    "terror.shape"
   ]
  },
  {
   "cell_type": "code",
   "execution_count": 4,
   "metadata": {},
   "outputs": [],
   "source": [
    "terror = pd.DataFrame(terror)"
   ]
  },
  {
   "cell_type": "code",
   "execution_count": 6,
   "metadata": {},
   "outputs": [],
   "source": [
    "terror_10000 = terror.sample(n=10000, replace=False)"
   ]
  },
  {
   "cell_type": "code",
   "execution_count": 7,
   "metadata": {},
   "outputs": [
    {
     "data": {
      "text/plain": [
       "(10000, 135)"
      ]
     },
     "execution_count": 7,
     "metadata": {},
     "output_type": "execute_result"
    }
   ],
   "source": [
    "terror_10000.shape"
   ]
  },
  {
   "cell_type": "code",
   "execution_count": 8,
   "metadata": {},
   "outputs": [],
   "source": [
    "# seleccionamos variables importantes\n",
    "variables_imp = terror_10000[['eventid','iyear','imonth','iday','country_txt','region_txt','city','latitude','longitude','summary','attacktype1_txt','targtype1_txt','motive','weaptype1_txt','nkill']]"
   ]
  },
  {
   "cell_type": "code",
   "execution_count": 10,
   "metadata": {},
   "outputs": [
    {
     "data": {
      "text/plain": [
       "12.0"
      ]
     },
     "execution_count": 10,
     "metadata": {},
     "output_type": "execute_result"
    }
   ],
   "source": [
    "variables_imp[variables_imp['country_txt']=='Argentina']['nkill'].sum()"
   ]
  },
  {
   "cell_type": "code",
   "execution_count": 13,
   "metadata": {},
   "outputs": [],
   "source": [
    "country_nkill = variables_imp[['country_txt','nkill']].groupby(['country_txt',]).agg(sum).reset_index()"
   ]
  },
  {
   "cell_type": "code",
   "execution_count": 14,
   "metadata": {},
   "outputs": [],
   "source": [
    "with pd.ExcelWriter('country_nkill.xlsx') as writer:\n",
    "\tcountry_nkill.to_excel(writer,sheet_name='Sheet 1') "
   ]
  },
  {
   "cell_type": "code",
   "execution_count": 9,
   "metadata": {},
   "outputs": [],
   "source": [
    "with pd.ExcelWriter('variables_imp.xlsx') as writer:\n",
    "\tvariables_imp.to_excel(writer,sheet_name='Sheet 1') "
   ]
  },
  {
   "cell_type": "code",
   "execution_count": 19,
   "metadata": {},
   "outputs": [
    {
     "name": "stdout",
     "output_type": "stream",
     "text": [
      "1970: 44\n",
      "1971: 29\n",
      "1972: 36\n",
      "1973: 30\n",
      "1974: 37\n",
      "1975: 58\n",
      "1976: 60\n",
      "1977: 71\n",
      "1978: 80\n",
      "1979: 158\n",
      "1980: 150\n",
      "1981: 159\n",
      "1982: 138\n",
      "1983: 181\n",
      "1984: 211\n",
      "1985: 204\n",
      "1986: 161\n",
      "1987: 194\n",
      "1988: 216\n",
      "1989: 241\n",
      "1990: 241\n",
      "1991: 296\n",
      "1992: 295\n",
      "1994: 213\n",
      "1995: 171\n",
      "1996: 166\n",
      "1997: 176\n",
      "1998: 63\n",
      "1999: 72\n",
      "2000: 113\n",
      "2001: 122\n",
      "2002: 90\n",
      "2003: 72\n",
      "2004: 70\n",
      "2005: 115\n",
      "2006: 172\n",
      "2007: 193\n",
      "2008: 281\n",
      "2009: 281\n",
      "2010: 287\n",
      "2011: 280\n",
      "2012: 481\n",
      "2013: 692\n",
      "2014: 970\n",
      "2015: 873\n",
      "2016: 757\n"
     ]
    }
   ],
   "source": [
    "from collections import Counter\n",
    "frequencies = Counter(sorted(variables_imp['iyear']))\n",
    "for item, count in frequencies.items():\n",
    "    print(f\"{item}: {count}\")\n"
   ]
  }
 ],
 "metadata": {
  "kernelspec": {
   "display_name": "Direct_profitability",
   "language": "python",
   "name": "python3"
  },
  "language_info": {
   "codemirror_mode": {
    "name": "ipython",
    "version": 3
   },
   "file_extension": ".py",
   "mimetype": "text/x-python",
   "name": "python",
   "nbconvert_exporter": "python",
   "pygments_lexer": "ipython3",
   "version": "3.11.0"
  },
  "orig_nbformat": 4
 },
 "nbformat": 4,
 "nbformat_minor": 2
}
